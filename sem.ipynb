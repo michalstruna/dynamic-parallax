{
 "cells": [
  {
   "attachments": {},
   "cell_type": "markdown",
   "metadata": {},
   "source": [
    "# Zadání\n",
    "\n",
    "Systém dvou hvězd hlavní posloupnosti s oběžnou drahou v rovině kolmé k pozorovateli je pozorován relativně k primární složce. Ta se tedy nachází v ohnisku oběžné dráhy sekundární složky. Hlavní poloosa $~$ této dráhy je pozorována pod úhlem $\\alpha = 4.5\"$ a vedlejší poloosa $b$ pod úhlem $\\beta = 3.5\"$. Relativní magnituda primární složky je $M_{r1} = 3.9$ a sekundární složky $M_{r2} = 5.3$. Sekundární složka urazí za 11 let trajektorii vyznačenou na obrázku v *zadani.pdf*.\n",
    "\n",
    "Cílem je spočítat (i) oběžnou periodu soustavy $T$, (ii) vzdálenost soustavy $d$, (iii) absolutní magnitudu $M$ každé ze složek a (iv) hmotnost $m$ každé ze složek za pomocí metody dynamické paralaxy.\n",
    "\n",
    "# Výsledek\n",
    "\n",
    "*Tabulka 1: Vypracované otázky ze zadání:*\n",
    "\n",
    "| # | Veličina | Primární složka | Sekundární složka |\n",
    "| --- | --- | --- | --- |\n",
    "| i | Oběžná perioda $T$ [rok] | 95.6 | 95.6 |\n",
    "| ii | Vzdálenost od pozorovatele $d$ [pc] | 5.3 | 5.3 |\n",
    "| iii | Absolutní magnituda $M$ | 5.27 | 6.67 |\n",
    "| iv | Hmotnost $m$ [m Slunce] | 0.89 | 0.62 |\n",
    "\n",
    "# Postup vypracování\n",
    "\n",
    "Seminární práce byla vypracována v programovacím jazyce *Python* s využitím software *Jupyter Notebook*. Ten umožňuje zdrojový kód rozdělit do buněk, jež lze spouštět nezávisle na sobě a&nbsp;dokumentovat je ve značkovacím jazyce *Markdown* a *LaTeX*. Jupyter Notebook je přiložen pod názvem *sem.ipynb* (ten identický je ale i vyexportován v PDF jako tento soubor). Surový zdrojový kód pak v souboru *sem.py*.\n",
    "\n",
    "*Tabulka 2: Přiložené soubory a jejich popis:*\n",
    "\n",
    "| Přiložený soubor | Popis |\n",
    "| --- | --- |\n",
    "| sem.pdf | Text práce a dokumentace zdrojového kódu |\n",
    "| sem.ipynb | Jupyter Notebook se zdrojovým kódem |\n",
    "| sem.py | Surový zdrojový kód |\n",
    "| zadani.pdf | Původní zadání práce |\n",
    "\n",
    "## Vstupní údaje\n",
    "\n",
    "Ze všeho nejdřív si do proměnných uložíme vstupní údaje ze zadání jakožto i všechny potřebné fyzikální a matematické konstanty."
   ]
  },
  {
   "cell_type": "code",
   "execution_count": 1,
   "metadata": {},
   "outputs": [],
   "source": [
    "import matplotlib.pyplot as plt\n",
    "from math import pi, sqrt, acos, log, tan\n",
    "\n",
    "G = 6.6742e-11  # Gravitační konstanta [m^3/s^2/kg]\n",
    "m_s = 1.989e30  # Hmotnost Slunce [kg]\n",
    "M_s = 4.83  # Absolutní magnituda Slunce\n",
    "lum_s = 3.846e26   # Zářivý výkon Slunce [W]\n",
    "PC_TO_AU = 206265  # Převod parsecu na au\n",
    "RAD_TO_S = 206265  # Převod radiánu na vteřiny\n",
    "AU_TO_M = 1.496e+11  # Převod au na metry\n",
    "Y_TO_S = 31556926  # Převod roku na sekundy\n",
    "\n",
    "M_r1 = 3.9  # Relativní magnituda primární složky\n",
    "M_r2 = 5.3  # Relativní magnituda sekundární složky\n",
    "alpha = 4.5 / RAD_TO_S  # Velká poloosy dráhy [rad]\n",
    "beta = 3.4 / RAD_TO_S  # Malá poloosy dráhy [rad]\n",
    "T_1 = 11 * Y_TO_S  # Část periody sekundární složky [s]"
   ]
  },
  {
   "attachments": {},
   "cell_type": "markdown",
   "metadata": {},
   "source": [
    "## Výpočet oběžné periody soustavy\n",
    "\n",
    "Nejprve spočítejme absolutní excentricitu dráhy $h$ z hlavní a vedlejší poloosy.\n",
    "\n",
    "$$\n",
    "h = \\sqrt{\\alpha^{2} - \\beta^{2}}\n",
    "$$"
   ]
  },
  {
   "cell_type": "code",
   "execution_count": 2,
   "metadata": {},
   "outputs": [
    {
     "data": {
      "text/plain": [
       "1.4291715000590186e-05"
      ]
     },
     "execution_count": 2,
     "metadata": {},
     "output_type": "execute_result"
    }
   ],
   "source": [
    "h = sqrt(alpha**2 - beta**2)  # Absolutní excentricita dráhy [rad]\n",
    "h"
   ]
  },
  {
   "attachments": {},
   "cell_type": "markdown",
   "metadata": {},
   "source": [
    "Poté využijme skutečnosti, že sekundární složce trvalo 11 let, než její průvodič opsal plochu $S_1$ danou vztahem mezi absolutní excentricitou $h$ a velkou poloosou $a$.\n",
    "\n",
    "$$\n",
    "S_1 = \\alpha\\beta\\left(\\arccos\\frac{h}{\\alpha} - \\frac{h}{\\alpha^{2}}\\sqrt{\\alpha^{2} - h^{2}}\\right)\n",
    "$$"
   ]
  },
  {
   "cell_type": "code",
   "execution_count": 3,
   "metadata": {},
   "outputs": [
    {
     "data": {
      "text/plain": [
       "1.300192002539296e-10"
      ]
     },
     "execution_count": 3,
     "metadata": {},
     "output_type": "execute_result"
    }
   ],
   "source": [
    "S_1 = alpha * beta * (acos(h / alpha) - (h  / alpha**2) * sqrt(alpha**2 - h**2))  # Obsah plochy opsané průvodičem sekundární složky za 11 let [rad^2]\n",
    "S_1"
   ]
  },
  {
   "attachments": {},
   "cell_type": "markdown",
   "metadata": {},
   "source": [
    "Následně můžeme spočítat plochu celé oběžné dráhy $S$.\n",
    "\n",
    "$$\n",
    "S = \\pi\\alpha\\beta\n",
    "$$"
   ]
  },
  {
   "cell_type": "code",
   "execution_count": 4,
   "metadata": {},
   "outputs": [
    {
     "data": {
      "text/plain": [
       "1.1297704760396395e-09"
      ]
     },
     "execution_count": 4,
     "metadata": {},
     "output_type": "execute_result"
    }
   ],
   "source": [
    "S = pi * alpha * beta  # Plocha oběžné dráhy sekundární složky [rad^2]\n",
    "S"
   ]
  },
  {
   "attachments": {},
   "cell_type": "markdown",
   "metadata": {},
   "source": [
    "Protože z 2. Keplerova zákona víme, že plochy opsané průvodičem tělesa jsou za stejný čas stejně velké, přes trojčlenku vypočítáme oběžnou periodu soustavy.\n",
    "\n",
    "$$\n",
    "T = \\frac{S}{S_1}T_1\n",
    "$$"
   ]
  },
  {
   "cell_type": "code",
   "execution_count": 5,
   "metadata": {},
   "outputs": [
    {
     "data": {
      "text/plain": [
       "95.5818464670216"
      ]
     },
     "execution_count": 5,
     "metadata": {},
     "output_type": "execute_result"
    }
   ],
   "source": [
    "T = S / S_1 * T_1  # Oběžná perioda soustavy [s]\n",
    "T / Y_TO_S"
   ]
  },
  {
   "attachments": {},
   "cell_type": "markdown",
   "metadata": {},
   "source": [
    "Oběžná perioda soustavy je **T = 95.6 let**.\n",
    "\n",
    "## Výpočet vzdálenosti soustavy\n",
    "\n",
    "Nejdříve předpokládejme, že každá složka má hmotnost jednoho Slunce. Celá soustava bude mít tedy hmotnost dvou Sluncí."
   ]
  },
  {
   "cell_type": "code",
   "execution_count": 6,
   "metadata": {},
   "outputs": [],
   "source": [
    "m_1 = m_s  # Předpokládaná hmotnost primární složky [kg]\n",
    "m_2 = m_s  # Předpokládaná hmotnost sekundární složky [kg]"
   ]
  },
  {
   "attachments": {},
   "cell_type": "markdown",
   "metadata": {},
   "source": [
    "Z 3. Keplerova zákona pak můžeme vypočítat velkou poloosu $a$.\n",
    "\n",
    "$$\n",
    "\\frac{a^3}{T^2} = \\frac{G(m_1 + m_2)}{4\\pi^2} \\implies a = \\sqrt[3]{\\frac{T^2G(m_1 + m_2)}{4\\pi^2}}\n",
    "$$"
   ]
  },
  {
   "cell_type": "code",
   "execution_count": 7,
   "metadata": {},
   "outputs": [
    {
     "data": {
      "text/plain": [
       "26.340048139775057"
      ]
     },
     "execution_count": 7,
     "metadata": {},
     "output_type": "execute_result"
    }
   ],
   "source": [
    "calc_semi_major_axis = lambda: (T**2 * G * (m_1 + m_2) / (4 * pi**2))**(1/3)\n",
    "a = calc_semi_major_axis()  # Velká poloosa oběžné dráhy sekundární složky [m]\n",
    "a / AU_TO_M"
   ]
  },
  {
   "attachments": {},
   "cell_type": "markdown",
   "metadata": {},
   "source": [
    "To znamená, že pozorujeme vzdálenost 26.3 au pod úhlem 4.5\". Goniometrickým vztahem můžeme dojít k výpočtu vzdálenosti $d$ od pozorovatele.\n",
    "\n",
    "$$\n",
    "d = \\frac{a}{\\tan{\\alpha}}\n",
    "$$"
   ]
  },
  {
   "cell_type": "code",
   "execution_count": 8,
   "metadata": {},
   "outputs": [
    {
     "data": {
      "text/plain": [
       "5.853344030132464"
      ]
     },
     "execution_count": 8,
     "metadata": {},
     "output_type": "execute_result"
    }
   ],
   "source": [
    "calc_distance = lambda: a / tan(alpha)\n",
    "d = calc_distance()  # Vzdálenost soustavy od pozorovatele [m]\n",
    "d / AU_TO_M / PC_TO_AU"
   ]
  },
  {
   "attachments": {},
   "cell_type": "markdown",
   "metadata": {},
   "source": [
    "Vzdálenost soustavy od pozorovatele je **d = 5.9 pc**.\n",
    "\n",
    "## Výpočet absolutní magnitudy\n",
    "\n",
    "Pro výpočet absolutní magnitudy $M$ každé ze složek využijeme vztahu mezi absolutní magnitudou, relativní magnitudou $M_r$ a vzdáleností od pozorovatele $d$.\n",
    "\n",
    "$$\n",
    "M = M_r + 5 - 5\\log{d}\n",
    "$$"
   ]
  },
  {
   "cell_type": "code",
   "execution_count": 9,
   "metadata": {},
   "outputs": [
    {
     "data": {
      "text/plain": [
       "(5.062979747447844, 6.462979747447845)"
      ]
     },
     "execution_count": 9,
     "metadata": {},
     "output_type": "execute_result"
    }
   ],
   "source": [
    "rel_mag_to_mag = lambda M_r: M_r + 5 - 5 * log(d / PC_TO_AU / AU_TO_M, 10)\n",
    "M_1, M_2 = rel_mag_to_mag(M_r1), rel_mag_to_mag(M_r2)  # abs. magnituda složek\n",
    "M_1, M_2"
   ]
  },
  {
   "attachments": {},
   "cell_type": "markdown",
   "metadata": {},
   "source": [
    "Absolutní magnituda primární složky je **M = 5.1**, sekudární složky **M = 6.5**.\n",
    "\n",
    "## Výpočet hmotnosti\n",
    "\n",
    "Nejdříve musíme zjistit zářivý výkon obou složek s využitím Pogsonovy rovnice.\n",
    "\n",
    "$$\n",
    "M - M_{s} = -2.5\\log{\\frac{L}{L_s}} \\implies L = L_s10^{-\\frac{M - M_{s}}{2.5}}\n",
    "$$"
   ]
  },
  {
   "cell_type": "code",
   "execution_count": 10,
   "metadata": {},
   "outputs": [
    {
     "data": {
      "text/plain": [
       "(0.8068784211605293, 0.22223277076645107)"
      ]
     },
     "execution_count": 10,
     "metadata": {},
     "output_type": "execute_result"
    }
   ],
   "source": [
    "mag_to_lum = lambda M: lum_s * 10**(-(M - M_s) / 2.5)\n",
    "lum_1, lum_2 = mag_to_lum(M_1), mag_to_lum(M_2)  # svítivost složek [W]\n",
    "lum_1 / lum_s, lum_2 / lum_s"
   ]
  },
  {
   "attachments": {},
   "cell_type": "markdown",
   "metadata": {},
   "source": [
    "Protože jsou obě hvězdy hlavní posloupnosti, můžeme pro odhad jejich hmotnosti využít vztah\n",
    "\n",
    "$$\n",
    "L \\sim m^{3.5} \\implies m \\sim \\sqrt[3.5]{L}\n",
    "$$"
   ]
  },
  {
   "cell_type": "code",
   "execution_count": 11,
   "metadata": {},
   "outputs": [
    {
     "data": {
      "text/plain": [
       "(0.9405323614061032, 0.6506894167722643)"
      ]
     },
     "execution_count": 11,
     "metadata": {},
     "output_type": "execute_result"
    }
   ],
   "source": [
    "lum_to_mass = lambda lum: m_s * (lum / lum_s)**(1/3.5)\n",
    "m_1, m_2 = lum_to_mass(lum_1), lum_to_mass(lum_2)  # hmotnosti složek [kg]\n",
    "m_1 / m_s, m_2 / m_s"
   ]
  },
  {
   "attachments": {},
   "cell_type": "markdown",
   "metadata": {},
   "source": [
    "Hmotnost primární složky je **m1 = 0.94**, té sekundární pak **m2 = 0.65** relativně vůči Slunci.\n",
    "\n",
    "## Iterace\n",
    "\n",
    "Dynamická paralaxa je iteračním algoritmem - zméřené kroky opakujeme stále dokola, přičemž vypočítané veličiny by měly konvergovat k nějaké hodnotě. My budeme kroky opakovat až do doby, kdy se veličiny budou lišit o méně než 1 %. Pro možnost zobrazení grafu s konvergencí všech měřených veličin budeme ukládat všechny hodnoty každé iterace do proměnné `H` (history)."
   ]
  },
  {
   "cell_type": "code",
   "execution_count": 12,
   "metadata": {},
   "outputs": [],
   "source": [
    "H = { \"M_1\": [M_1], \"M_2\": [M_2], \"m_1\": [m_1], \"m_2\": [m_2], \"a\": [a], \"d\": [d] }\n",
    "is_converged = False\n",
    "is_ok = lambda val1, val2: abs(val1 / val2 - 1) < 0.01\n",
    "\n",
    "while not is_converged:\n",
    "\ta = calc_semi_major_axis()\n",
    "\td = calc_distance()\n",
    "\tM_1, M_2 = rel_mag_to_mag(M_r1), rel_mag_to_mag(M_r2)\n",
    "\tlum_1, lum_2 = mag_to_lum(M_1), mag_to_lum(M_2)\n",
    "\tm_1, m_2 = lum_to_mass(lum_1), lum_to_mass(lum_2)\n",
    "\n",
    "\tis_converged = is_ok(H[\"m_1\"][-1], m_1) and is_ok(H[\"m_2\"][-1], m_2) and is_ok(H[\"M_1\"][-1], M_1) and is_ok(H[\"M_2\"][-1], M_2) and is_ok(H[\"d\"][-1], d)\n",
    "\n",
    "\tH[\"a\"].append(a), H[\"d\"].append(d), H[\"m_1\"].append(m_1)\n",
    "\tH[\"m_2\"].append(m_2), H[\"M_1\"].append(M_1), H[\"M_2\"].append(M_2)"
   ]
  },
  {
   "attachments": {},
   "cell_type": "markdown",
   "metadata": {},
   "source": [
    "Po 4 iteracích jsme došli k výsledku."
   ]
  },
  {
   "cell_type": "code",
   "execution_count": 13,
   "metadata": {},
   "outputs": [
    {
     "data": {
      "text/plain": [
       "23.988947235818326"
      ]
     },
     "execution_count": 13,
     "metadata": {},
     "output_type": "execute_result"
    }
   ],
   "source": [
    "a / AU_TO_M"
   ]
  },
  {
   "attachments": {},
   "cell_type": "markdown",
   "metadata": {},
   "source": [
    "Velká poloosa oběžné dráhy je **a = 24 au**."
   ]
  },
  {
   "cell_type": "code",
   "execution_count": 14,
   "metadata": {},
   "outputs": [
    {
     "data": {
      "text/plain": [
       "5.330877162669417"
      ]
     },
     "execution_count": 14,
     "metadata": {},
     "output_type": "execute_result"
    }
   ],
   "source": [
    "d / AU_TO_M / PC_TO_AU"
   ]
  },
  {
   "attachments": {},
   "cell_type": "markdown",
   "metadata": {},
   "source": [
    "Vzdálenost soustavy od pozorovatele je **d = 5.3 pc**."
   ]
  },
  {
   "cell_type": "code",
   "execution_count": 15,
   "metadata": {},
   "outputs": [
    {
     "data": {
      "text/plain": [
       "(5.2660066231934834, 6.666006623193484)"
      ]
     },
     "execution_count": 15,
     "metadata": {},
     "output_type": "execute_result"
    }
   ],
   "source": [
    "M_1, M_2"
   ]
  },
  {
   "attachments": {},
   "cell_type": "markdown",
   "metadata": {},
   "source": [
    "Absolutní magnituda obou složek je **M1 = 5.2** a **M2 = 6.7**."
   ]
  },
  {
   "cell_type": "code",
   "execution_count": 16,
   "metadata": {},
   "outputs": [
    {
     "data": {
      "text/plain": [
       "(0.8916012560721098, 0.616837362660911)"
      ]
     },
     "execution_count": 16,
     "metadata": {},
     "output_type": "execute_result"
    }
   ],
   "source": [
    "m_1 / m_s, m_2 / m_s"
   ]
  },
  {
   "attachments": {},
   "cell_type": "markdown",
   "metadata": {},
   "source": [
    "Hmotnost složek je **m1 = 0.89** a **m2 = 0.62** relativně vůči Slunci. Jedná se tak o hvězdy o něco menší, než je Slunce.\n",
    "\n",
    "*Graf 1: Konvergence veličin v jednotlivých iteracích:*"
   ]
  },
  {
   "cell_type": "code",
   "execution_count": 17,
   "metadata": {},
   "outputs": [
    {
     "data": {
      "image/png": "[encoded data removed]",
      "text/plain": [
       "<Figure size 720x432 with 4 Axes>"
      ]
     },
     "metadata": {
      "needs_background": "light"
     },
     "output_type": "display_data"
    }
   ],
   "source": [
    "rescale = lambda vals, x: list(map(lambda val: round(val * x, 3), vals))\n",
    "\n",
    "def plot(ax, name, label, both=False, scale=1):\n",
    "\tname1, name2 = (f\"{name}_1\", f\"{name}_2\") if both else (name, name)\n",
    "\tvals1, vals2 = rescale(H[name1], scale), rescale(H[name2], scale)\n",
    "\tax.plot(vals1)\n",
    "\tax.set_xlabel(\"Iterace\"), ax.set_ylabel(label), ax.grid()\n",
    "\n",
    "\tfor i in range(len(vals1)):\n",
    "\t\tax.text(i, vals1[i], vals1[i]), ax.text(i, vals2[i], vals2[i])\n",
    "\n",
    "\tif both:\n",
    "\t\tax.plot(vals2)\n",
    "\t\tax.legend([\"Primární složka\", \"Sekundární složka\"])\n",
    "\n",
    "fig, axs = plt.subplots(2, 2, figsize=(10, 6))\n",
    "plot(axs[0, 0], \"a\", \"Velká poloosa [au]\", scale=1/AU_TO_M)\n",
    "plot(axs[0, 1], \"d\", \"Vzdálenost [pc]\", scale=1/PC_TO_AU/AU_TO_M)\n",
    "plot(axs[1, 0], \"M\", \"Absolutní magnituda\", both=True)\n",
    "plot(axs[1, 1], \"m\", \"Hmotnost [m☉]\", both=True, scale=1/m_s)"
   ]
  }
 ],
 "metadata": {
  "kernelspec": {
   "display_name": "Python 3",
   "language": "python",
   "name": "python3"
  },
  "language_info": {
   "codemirror_mode": {
    "name": "ipython",
    "version": 3
   },
   "file_extension": ".py",
   "mimetype": "text/x-python",
   "name": "python",
   "nbconvert_exporter": "python",
   "pygments_lexer": "ipython3",
   "version": "3.10.6"
  },
  "orig_nbformat": 4
 },
 "nbformat": 4,
 "nbformat_minor": 2
}
