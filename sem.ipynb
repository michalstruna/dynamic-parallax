{
 "cells": [
  {
   "attachments": {},
   "cell_type": "markdown",
   "metadata": {},
   "source": [
    "# Astrokurz 2023 - seminární úloha\n",
    "\n",
    "*Vypracoval Michal Struna*\n",
    "\n",
    "# Úvod\n",
    "# Výsledek\n",
    "\n",
    "| # | Veličina | Vypočítaná hodnota |\n",
    "| --- | --- | --- |\n",
    "| i | Oběžná perioda soustavy | 95.6 let |\n",
    "| ii | Vzdálenost soustavy |  |\n",
    "| iii | Absolutní magnituda |  |\n",
    "| iv | Hmotnost |  |\n",
    "\n",
    "# Zdrojový kód\n",
    "\n",
    "Seminární práce byla vypracována v programovacím jazyce *Python* s využitím software *Jupyter Notebook*. Ten umožňuje zdrojový kód rozdělit do jednotlivých buněk, které lze spouštět nezávisle na sobě a dokumentovat je ve značkovacím jazyce *Markdown*. Jupyter Notebook je přiložen pod názvem *sem.ipynb*. Surový zdrojový kód pak v souboru *sem.py*.\n",
    "\n",
    "| Přiložený soubor | Popis |\n",
    "| --- | --- |\n",
    "| sem.pdf | Text práce a dokumentace zdrojového kódu |\n",
    "| sem.ipynb | Jupyter Notebook se zdrojovým kódem |\n",
    "| sem.py | Surový zdrojový kód |\n",
    "\n",
    "## Vstupní údaje\n",
    "\n",
    "Ze všeho nejdřív si do proměnných uložíme vstupní údaje ze zadání jakožto i všechny potřebné fyzikální a matematické konstanty."
   ]
  },
  {
   "cell_type": "code",
   "execution_count": 49,
   "metadata": {},
   "outputs": [],
   "source": [
    "from math import pi, sqrt, acos\n",
    "\n",
    "G = 6.6742e-11  # Gravitační konstanta [m^3/s^2/kg]\n",
    "\n",
    "m1 = 3.9  # Relativní magnituda primární složky\n",
    "m2 = 5.3  # Relativní magnituda sekundární složky\n",
    "a = 4.5  # Úhlový rozměr velké poloosy dráhy [\"]\n",
    "b = 3.4  # Úhlový rozměr malé poloosy dráhy [\"]\n",
    "T1 = 11  # Část periody sekundární složky [rok]"
   ]
  },
  {
   "attachments": {},
   "cell_type": "markdown",
   "metadata": {},
   "source": [
    "## Výpočet oběžné periody soustavy\n",
    "\n",
    "Nejprve spočítejme absolutní excentricitu dráhy $h$ (vzdálenost středu od ohniska dráhy) ze vztahu\n",
    "\n",
    "$$\n",
    "h = \\sqrt{a^{2} - b^{2}}\n",
    "$$"
   ]
  },
  {
   "cell_type": "code",
   "execution_count": 41,
   "metadata": {},
   "outputs": [
    {
     "data": {
      "text/plain": [
       "2.947880594596735"
      ]
     },
     "execution_count": 41,
     "metadata": {},
     "output_type": "execute_result"
    }
   ],
   "source": [
    "h = sqrt(a**2 - b**2)  # Absolutní excentricita dráhy [\"]\n",
    "h"
   ]
  },
  {
   "attachments": {},
   "cell_type": "markdown",
   "metadata": {},
   "source": [
    "Poté využijme skutečnosti, že sekundární složce trvalo 11 let, než její průvodič opsal plochu danou vzorcem\n",
    "\n",
    "$$\n",
    "S_1 = ab\\left(\\arccos\\frac{h}{a} - \\frac{h}{a^{2}}\\sqrt{a^{2} - h^{2}}\\right)\n",
    "$$\n",
    "\n",
    "kde $S_1$ je plocha opsaná průvodičem, $h$ vzdálenost středu a ohniska oběžné dráhy a $a$ velká poloosa oběžné dráhy."
   ]
  },
  {
   "cell_type": "code",
   "execution_count": 48,
   "metadata": {},
   "outputs": [
    {
     "data": {
      "text/plain": [
       "5.5316994088578175"
      ]
     },
     "execution_count": 48,
     "metadata": {},
     "output_type": "execute_result"
    }
   ],
   "source": [
    "S1 = a * b * (acos(h / a) - (h  / a**2) * sqrt(a**2 - h**2))  # Obsah plochy opsané průvodičem sekundární složky za 11 let [\"^2]\n",
    "S1"
   ]
  },
  {
   "attachments": {},
   "cell_type": "markdown",
   "metadata": {},
   "source": [
    "Následně můžeme spočítat plochu celé oběžné dráhy $S$ dle vztahu\n",
    "\n",
    "$$\n",
    "S = \\pi ab\n",
    "$$"
   ]
  },
  {
   "cell_type": "code",
   "execution_count": 44,
   "metadata": {},
   "outputs": [
    {
     "data": {
      "text/plain": [
       "48.06636759992384"
      ]
     },
     "execution_count": 44,
     "metadata": {},
     "output_type": "execute_result"
    }
   ],
   "source": [
    "S = pi * a * b  # Plocha oběžné dráhy sekundární složky [\"^2]\n",
    "S"
   ]
  },
  {
   "attachments": {},
   "cell_type": "markdown",
   "metadata": {},
   "source": [
    "Protože z 2. Keplerova zákona víme, že plochy opsané průvodičem tělesa jsou za stejný čas stejně velké, přes trojčlenku vypočítáme oběžnou periodu soustavy\n",
    "\n",
    "$$\n",
    "T = \\frac{S}{S_1}T_1\n",
    "$$"
   ]
  },
  {
   "cell_type": "code",
   "execution_count": 47,
   "metadata": {},
   "outputs": [
    {
     "data": {
      "text/plain": [
       "95.58184646702163"
      ]
     },
     "execution_count": 47,
     "metadata": {},
     "output_type": "execute_result"
    }
   ],
   "source": [
    "T = S / S1 * T1  # Oběžná perioda soustavy [rok]\n",
    "T"
   ]
  },
  {
   "attachments": {},
   "cell_type": "markdown",
   "metadata": {},
   "source": [
    "Oběžná perioda soustavy je **T = 95.6 let**.\n",
    "\n",
    "## Výpočet vzdálenosti soustavy"
   ]
  },
  {
   "attachments": {},
   "cell_type": "markdown",
   "metadata": {},
   "source": [
    "2. Keplerův zákon a vyjádříme z něj oběžnou periodu:\n",
    "\n",
    "$$\n",
    "T^{2} = \\frac{4\\pi^{2}}{GM}a^{3} \\implies T = 2\\pi\\frac{a^{3}}{GM}\n",
    "$$\n",
    "\n",
    "kde $T$ je oběžná perioda, $G$ gravitační konstanta a $a$ velká poloosa oběžné dráhy."
   ]
  },
  {
   "cell_type": "code",
   "execution_count": 7,
   "metadata": {},
   "outputs": [
    {
     "ename": "NameError",
     "evalue": "name 'a' is not defined",
     "output_type": "error",
     "traceback": [
      "\u001b[0;31m---------------------------------------------------------------------------\u001b[0m",
      "\u001b[0;31mNameError\u001b[0m                                 Traceback (most recent call last)",
      "Cell \u001b[0;32mIn[7], line 1\u001b[0m\n\u001b[0;32m----> 1\u001b[0m T \u001b[39m=\u001b[39m \u001b[39m2\u001b[39m \u001b[39m*\u001b[39m pi \u001b[39m*\u001b[39m sqrt(a\u001b[39m*\u001b[39m\u001b[39m*\u001b[39m\u001b[39m3\u001b[39m \u001b[39m/\u001b[39m (G \u001b[39m*\u001b[39m M))  \u001b[39m# Výpočet oběžné periody soustavy z 2. Keplerova zákona\u001b[39;00m\n",
      "\u001b[0;31mNameError\u001b[0m: name 'a' is not defined"
     ]
    }
   ],
   "source": [
    "T = 2 * pi * sqrt(a**3 / (G * M))  # Výpočet oběžné periody soustavy z 2. Keplerova zákona"
   ]
  },
  {
   "cell_type": "code",
   "execution_count": null,
   "metadata": {},
   "outputs": [],
   "source": []
  }
 ],
 "metadata": {
  "kernelspec": {
   "display_name": "Python 3",
   "language": "python",
   "name": "python3"
  },
  "language_info": {
   "codemirror_mode": {
    "name": "ipython",
    "version": 3
   },
   "file_extension": ".py",
   "mimetype": "text/x-python",
   "name": "python",
   "nbconvert_exporter": "python",
   "pygments_lexer": "ipython3",
   "version": "3.10.6"
  },
  "orig_nbformat": 4
 },
 "nbformat": 4,
 "nbformat_minor": 2
}
